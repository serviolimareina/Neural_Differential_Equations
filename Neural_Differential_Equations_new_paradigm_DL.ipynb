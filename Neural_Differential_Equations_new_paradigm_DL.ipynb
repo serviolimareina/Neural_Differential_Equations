{
  "nbformat": 4,
  "nbformat_minor": 0,
  "metadata": {
    "colab": {
      "name": "Neural Differential Equations new paradigm DL.ipynb",
      "version": "0.3.2",
      "provenance": [],
      "collapsed_sections": [],
      "include_colab_link": true
    },
    "kernelspec": {
      "name": "python3",
      "display_name": "Python 3"
    }
  },
  "cells": [
    {
      "cell_type": "markdown",
      "metadata": {
        "id": "view-in-github",
        "colab_type": "text"
      },
      "source": [
        "<a href=\"https://colab.research.google.com/github/serviolimareina/Neural_Differential_Equations/blob/master/Neural_Differential_Equations_new_paradigm_DL.ipynb\" target=\"_parent\"><img src=\"https://colab.research.google.com/assets/colab-badge.svg\" alt=\"Open In Colab\"/></a>"
      ]
    },
    {
      "metadata": {
        "id": "3I9kTnB9GByx",
        "colab_type": "code",
        "colab": {
          "base_uri": "https://localhost:8080/",
          "height": 102
        },
        "outputId": "7acb1360-c12d-46c5-c670-a42b76d51c80"
      },
      "cell_type": "code",
      "source": [
        "import numpy as np\n",
        "\n",
        "# compute sigmoid nonlinearity\n",
        "def sigmoid(x):\n",
        "    output = 1/(1+np.exp(-x))\n",
        "    return output\n",
        "\n",
        "# convert output of sigmoid function to its derivative\n",
        "def sigmoid_output_to_derivative(output):\n",
        "    return output*(1-output)\n",
        "    \n",
        "# input dataset\n",
        "X = np.array([  [0,1],\n",
        "                [0,1],\n",
        "                [1,0],\n",
        "                [1,0] ])\n",
        "    \n",
        "# output dataset            \n",
        "y = np.array([[0,0,1,1]]).T\n",
        "\n",
        "# seed random numbers to make calculation\n",
        "# deterministic (just a good practice)\n",
        "np.random.seed(1)\n",
        "\n",
        "# initialize weights randomly with mean 0\n",
        "synapse_0 = 2*np.random.random((2,1)) - 1\n",
        "\n",
        "for iter in range(10000):\n",
        "\n",
        "    # forward propagation\n",
        "    layer_0 = X\n",
        "    layer_1 = sigmoid(np.dot(layer_0,synapse_0))\n",
        "\n",
        "    # how much did we miss?\n",
        "    layer_1_error = layer_1 - y\n",
        "     # multiply how much we missed by the \n",
        "    # slope of the sigmoid at the values in l1\n",
        "    layer_1_delta = layer_1_error * sigmoid_output_to_derivative(layer_1)\n",
        "    synapse_0_derivative = np.dot(layer_0.T,layer_1_delta)\n",
        "\n",
        "    # update weights\n",
        "    synapse_0 -= synapse_0_derivative\n",
        "\n",
        "print(\"Output After Training:\")\n",
        "print(layer_1)\n",
        "    "
      ],
      "execution_count": 2,
      "outputs": [
        {
          "output_type": "stream",
          "text": [
            "Output After Training:\n",
            "[[0.00505119]\n",
            " [0.00505119]\n",
            " [0.99494905]\n",
            " [0.99494905]]\n"
          ],
          "name": "stdout"
        }
      ]
    }
  ]
}